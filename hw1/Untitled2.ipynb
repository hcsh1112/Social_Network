{
 "cells": [
  {
   "cell_type": "code",
   "execution_count": null,
   "metadata": {},
   "outputs": [],
   "source": [
    "import csv\n",
    "from igraph import *\n",
    "g = Graph();\n",
    "with open('node_information.csv', newline='') as csvfile:\n",
    "    rows = csv.reader(csvfile)\n",
    "    i = 0\n",
    "    for row in rows:\n",
    "        g.add_vertices(1)\n",
    "        g.vs[i][\"id\"] = row[0]\n",
    "        i++\n",
    "        if i == 100 : break\n",
    "'''     \n",
    "layout = g.layout(\"kk\")\n",
    "plot(g, layout = layout)\n",
    "'''"
   ]
  },
  {
   "cell_type": "code",
   "execution_count": null,
   "metadata": {},
   "outputs": [],
   "source": []
  }
 ],
 "metadata": {
  "kernelspec": {
   "display_name": "Python 3",
   "language": "python",
   "name": "python3"
  },
  "language_info": {
   "codemirror_mode": {
    "name": "ipython",
    "version": 3
   },
   "file_extension": ".py",
   "mimetype": "text/x-python",
   "name": "python",
   "nbconvert_exporter": "python",
   "pygments_lexer": "ipython3",
   "version": "3.5.4rc1"
  }
 },
 "nbformat": 4,
 "nbformat_minor": 2
}
