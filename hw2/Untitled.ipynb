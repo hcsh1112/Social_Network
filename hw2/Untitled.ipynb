{
 "cells": [
  {
   "cell_type": "code",
   "execution_count": null,
   "metadata": {},
   "outputs": [],
   "source": [
    "from igraph import *\n",
    "import csv\n",
    "\n",
    "g = Graph()\n",
    "\n",
    "'''total 1005 node'''\n",
    "for i in range(0, 1006):\n",
    "    g.add_vertices(1)\n",
    "    g.vs[i][\"id\"] = i\n",
    "    \n",
    "for i in open('email-Eu-core.txt', 'r', encoding='UTF-8'):\n",
    "    cut = i.split()\n",
    "    g.add_edges([( int(cut[0]), int(cut[1]) )])\n",
    "\n",
    "temp = g.community_edge_betweenness()\n",
    "clusters = temp.as_clustering()\n",
    "group = clusters.membership\n",
    "\n",
    "writer = csv.writer(open(\"output.csv\", \"w\"))\n",
    "for name, membership in zip(g.vs[\"id\"], membership):\n",
    "    writer.writerow([name, membership])\n"
   ]
  },
  {
   "cell_type": "code",
   "execution_count": null,
   "metadata": {},
   "outputs": [],
   "source": []
  }
 ],
 "metadata": {
  "kernelspec": {
   "display_name": "Python 3",
   "language": "python",
   "name": "python3"
  },
  "language_info": {
   "codemirror_mode": {
    "name": "ipython",
    "version": 3
   },
   "file_extension": ".py",
   "mimetype": "text/x-python",
   "name": "python",
   "nbconvert_exporter": "python",
   "pygments_lexer": "ipython3",
   "version": "3.5.4rc1"
  }
 },
 "nbformat": 4,
 "nbformat_minor": 2
}
